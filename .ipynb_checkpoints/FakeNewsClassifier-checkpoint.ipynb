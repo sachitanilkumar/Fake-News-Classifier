{
 "cells": [
  {
   "cell_type": "markdown",
   "metadata": {},
   "source": [
    "# Detecting Fake News\n",
    "Trying two distinct approaches. One that uses NLP and could take more processing time - this should give better accuracy. Also trying an approach beforehand that does not use NLP (at least no vectorization and such) and should give faster results. "
   ]
  },
  {
   "cell_type": "code",
   "execution_count": 2,
   "metadata": {
    "scrolled": true
   },
   "outputs": [],
   "source": [
    "# importing required libraries\n",
    "from sklearn.model_selection import train_test_split\n",
    "from sklearn.metrics import accuracy_score, confusion_matrix, classification_report\n",
    "\n",
    "from sklearn.linear_model import LogisticRegression\n",
    "from sklearn.neighbors import KNeighborsClassifier\n",
    "from sklearn.naive_bayes import GaussianNB\n",
    "from sklearn.tree import DecisionTreeClassifier\n",
    "from sklearn.svm import LinearSVC\n",
    "from sklearn.ensemble import RandomForestClassifier\n",
    "\n",
    "from sklearn.feature_extraction.text import TfidfTransformer\n",
    "from sklearn.feature_extraction.text import TfidfVectorizer\n",
    "\n",
    "import pandas as pd\n",
    "import re\n",
    "from abbreviations import schwartz_hearst"
   ]
  },
  {
   "cell_type": "markdown",
   "metadata": {},
   "source": [
    "## Approach 1"
   ]
  },
  {
   "cell_type": "code",
   "execution_count": 3,
   "metadata": {},
   "outputs": [],
   "source": [
    "# importing the data - creating target column\n",
    "true = pd.read_csv(\"dataset/true.csv\")\n",
    "fake = pd.read_csv(\"dataset/fake.csv\")\n",
    "\n",
    "true['fake'] = 0\n",
    "fake['fake'] = 1\n",
    "\n",
    "dataset = true.append(fake, ignore_index = True)"
   ]
  },
  {
   "cell_type": "markdown",
   "metadata": {},
   "source": [
    "In a lot of fake news articles the titles contain capitalized words. This might be a function of fake news articles going a more sensationalist route. Let us try to take advantage of that. A pitfall is that titles also contain a lot of abbreviations that are capitalized. We need to find a way to work around that. "
   ]
  },
  {
   "cell_type": "code",
   "execution_count": 3,
   "metadata": {},
   "outputs": [],
   "source": [
    "dataset['title_abbr_list'] = dataset['title'].str.findall(r\"([A-Z]{2,})\")      # capital words in title\n",
    "\n",
    "# these could be the full forms in the text of the article\n",
    "full_candidate_list_series = dataset['text'].str.findall(r\"((?:(?:[A-Z](?:[a-z]{1,}))(?:.[a-z]{1,3}.|.)){2,})\")\n",
    "dataset['text_abbr_list'] = \\\n",
    "                full_candidate_list_series.apply(lambda x: [''.join([c for c in a if c.isupper()]) for a in x])"
   ]
  },
  {
   "cell_type": "code",
   "execution_count": 4,
   "metadata": {},
   "outputs": [],
   "source": [
    "# use shwartz-hearst algo to find abbreviations that are stated in text like - Central Intelligence Agency (CIA)\n",
    "def get_abbr_sh(text):\n",
    "    pairs = schwartz_hearst.extract_abbreviation_definition_pairs(doc_text = text)\n",
    "    return pairs\n",
    "\n",
    "def check_char_upper(c):\n",
    "    if c >= 'A' and c <= 'Z':\n",
    "        return True\n",
    "    else:\n",
    "        return False\n",
    "\n",
    "def fully_upper(x):\n",
    "    for c in x:\n",
    "        if check_char_upper(c) is False:\n",
    "            return False\n",
    "    return True\n",
    "\n",
    "# dataset['sh'] = dataset['text'].apply(get_abbr_sh)\n",
    "\n",
    "# get all the abbreviations from corpus together\n",
    "list_of_dicts = dataset['text'].apply(get_abbr_sh).to_list()\n",
    "dicts = {k: v for d in list_of_dicts for k, v in d.items()}\n",
    "corpus_abbr_list = list(dicts.keys())\n",
    "corpus_abbr_list = [x for x in corpus_abbr_list if fully_upper(x)]"
   ]
  },
  {
   "cell_type": "code",
   "execution_count": 5,
   "metadata": {},
   "outputs": [],
   "source": [
    "# list of common abbreviations that can be present in titles of news articles\n",
    "# note that these might be overfitting the data - might not be advisable; also hardcoding (similar to stopwords)\n",
    "common_abbr_list = ['TV', 'MSNBC', 'BBC', 'NBC', 'ABC', 'CNBC', 'CBS', 'RIA', 'NTV', 'ESPN', 'NYT', 'WSJ', 'ET',\n",
    "                    'US', 'UK', 'USA', 'UN', 'VP', 'GOP', 'CEO', 'DC', 'HQ', 'WWI', 'WWII', 'WWIII', 'OK', 'FY',\n",
    "                    'JFK', 'NYSE', 'NYC', 'EST', 'EDT', 'PST', 'PDT', 'CST', 'CDT']"
   ]
  },
  {
   "cell_type": "code",
   "execution_count": 6,
   "metadata": {},
   "outputs": [],
   "source": [
    "def find_abbr(row):\n",
    "    # retain capitalized words that cannot be eliminated as abbreviations\n",
    "    \n",
    "    abbr_list = row.title_abbr_list\n",
    "    abbr_list = [x for x in abbr_list if not eliminate_abbr(x, row.text_abbr_list, row.text)]\n",
    "    return abbr_list\n",
    "\n",
    "def eliminate_abbr(abbr, text_abbr_list, text):\n",
    "    # eliminate capitalized words from list if they seem to be abbreviations\n",
    "    \n",
    "    # if the full forms are appearing in the text\n",
    "    for text_abbr in text_abbr_list:\n",
    "        if abbr in text_abbr:\n",
    "            return True\n",
    "    \n",
    "    # if the capitalized word has appeared in the text repeatedly \n",
    "    if text.count(abbr) > 1:\n",
    "        return True\n",
    "    \n",
    "    # if they have been identified by shwartz-hearst algo as an abbreviation in the corpus\n",
    "    if abbr in corpus_abbr_list:\n",
    "        return True\n",
    "    \n",
    "    # if they are present in the stop-word like common abbreviation list\n",
    "    if abbr in common_abbr_list:\n",
    "        return True\n",
    "    \n",
    "    return False\n",
    "\n",
    "capitalized_words = dataset.apply(find_abbr, axis = 1)\n",
    "dataset['has_cap_words'] = capitalized_words.str.len() > 0"
   ]
  },
  {
   "cell_type": "code",
   "execution_count": 7,
   "metadata": {},
   "outputs": [
    {
     "data": {
      "text/plain": [
       "fake\n",
       "0       83.0\n",
       "1    18734.0\n",
       "Name: has_cap_words, dtype: float64"
      ]
     },
     "execution_count": 7,
     "metadata": {},
     "output_type": "execute_result"
    }
   ],
   "source": [
    "dataset.groupby('fake')['has_cap_words'].aggregate('sum')"
   ]
  },
  {
   "cell_type": "markdown",
   "metadata": {},
   "source": [
    "Excellent. This seems to be a good feature to have. We can see that as compared to the fake news articles, very few true news articles have capitalized words (that have not been identified as abbreviations) in the title. <br><br>\n",
    "Let us also have a look at the lengths of the titles and articles themselves."
   ]
  },
  {
   "cell_type": "code",
   "execution_count": 4,
   "metadata": {},
   "outputs": [],
   "source": [
    "dataset['title_length'] = dataset['title'].str.len()\n",
    "dataset['text_length'] = dataset['text'].str.len()"
   ]
  },
  {
   "cell_type": "code",
   "execution_count": 7,
   "metadata": {
    "scrolled": true
   },
   "outputs": [
    {
     "data": {
      "text/plain": [
       "array([<matplotlib.axes._subplots.AxesSubplot object at 0x1a219cbac8>,\n",
       "       <matplotlib.axes._subplots.AxesSubplot object at 0x1a21d84c50>],\n",
       "      dtype=object)"
      ]
     },
     "execution_count": 7,
     "metadata": {},
     "output_type": "execute_result"
    },
    {
     "data": {
      "image/png": "[encoded data removed]",
      "text/plain": [
       "<Figure size 432x288 with 2 Axes>"
      ]
     },
     "metadata": {
      "needs_background": "light"
     },
     "output_type": "display_data"
    }
   ],
   "source": [
    "dataset['title_length'].hist(by = dataset['fake'])"
   ]
  },
  {
   "cell_type": "code",
   "execution_count": 6,
   "metadata": {},
   "outputs": [
    {
     "data": {
      "text/plain": [
       "array([<matplotlib.axes._subplots.AxesSubplot object at 0x1a217f4780>,\n",
       "       <matplotlib.axes._subplots.AxesSubplot object at 0x1a218622e8>],\n",
       "      dtype=object)"
      ]
     },
     "execution_count": 6,
     "metadata": {},
     "output_type": "execute_result"
    },
    {
     "data": {
      "image/png": "[encoded data removed]",
      "text/plain": [
       "<Figure size 432x288 with 2 Axes>"
      ]
     },
     "metadata": {
      "needs_background": "light"
     },
     "output_type": "display_data"
    }
   ],
   "source": [
    "dataset.loc[dataset['text_length'] < 10000, 'text_length'].hist(by = dataset['fake'])"
   ]
  },
  {
   "cell_type": "markdown",
   "metadata": {},
   "source": [
    "Again, we can see promising signs - with the length of titles at least. The distribution of length of title is vastly different for fake and true news articles. This feature might also help predict whether an article is fake or true news. "
   ]
  },
  {
   "cell_type": "code",
   "execution_count": 11,
   "metadata": {},
   "outputs": [
    {
     "data": {
      "text/html": [
       "<div>\n",
       "<style scoped>\n",
       "    .dataframe tbody tr th:only-of-type {\n",
       "        vertical-align: middle;\n",
       "    }\n",
       "\n",
       "    .dataframe tbody tr th {\n",
       "        vertical-align: top;\n",
       "    }\n",
       "\n",
       "    .dataframe thead th {\n",
       "        text-align: right;\n",
       "    }\n",
       "</style>\n",
       "<table border=\"1\" class=\"dataframe\">\n",
       "  <thead>\n",
       "    <tr style=\"text-align: right;\">\n",
       "      <th></th>\n",
       "      <th>title</th>\n",
       "      <th>text</th>\n",
       "      <th>subject</th>\n",
       "      <th>date</th>\n",
       "      <th>fake</th>\n",
       "      <th>title_abbr_list</th>\n",
       "      <th>text_abbr_list</th>\n",
       "      <th>has_cap_words</th>\n",
       "      <th>title_length</th>\n",
       "      <th>text_length</th>\n",
       "    </tr>\n",
       "  </thead>\n",
       "  <tbody>\n",
       "    <tr>\n",
       "      <th>0</th>\n",
       "      <td>As U.S. budget fight looms, Republicans flip t...</td>\n",
       "      <td>WASHINGTON (Reuters) - The head of a conservat...</td>\n",
       "      <td>politicsNews</td>\n",
       "      <td>December 31, 2017</td>\n",
       "      <td>0</td>\n",
       "      <td>[]</td>\n",
       "      <td>[RMM, FN, PDT, HFC, RJC, US, HR, HSPR, IR, MM,...</td>\n",
       "      <td>False</td>\n",
       "      <td>64</td>\n",
       "      <td>4659</td>\n",
       "    </tr>\n",
       "    <tr>\n",
       "      <th>1</th>\n",
       "      <td>U.S. military to accept transgender recruits o...</td>\n",
       "      <td>WASHINGTON (Reuters) - Transgender people will...</td>\n",
       "      <td>politicsNews</td>\n",
       "      <td>December 29, 2017</td>\n",
       "      <td>0</td>\n",
       "      <td>[]</td>\n",
       "      <td>[PDT, JD, TDD, DC, IS, TDD, SC, HB, DD, JL, AC...</td>\n",
       "      <td>False</td>\n",
       "      <td>64</td>\n",
       "      <td>4077</td>\n",
       "    </tr>\n",
       "    <tr>\n",
       "      <th>2</th>\n",
       "      <td>Senior U.S. Republican senator: 'Let Mr. Muell...</td>\n",
       "      <td>WASHINGTON (Reuters) - The special counsel inv...</td>\n",
       "      <td>politicsNews</td>\n",
       "      <td>December 31, 2017</td>\n",
       "      <td>0</td>\n",
       "      <td>[]</td>\n",
       "      <td>[RPT, LG, DJSCRM, FN, WH, NYT, HR, FBI, TR, CS...</td>\n",
       "      <td>False</td>\n",
       "      <td>60</td>\n",
       "      <td>2789</td>\n",
       "    </tr>\n",
       "    <tr>\n",
       "      <th>3</th>\n",
       "      <td>FBI Russia probe helped by Australian diplomat...</td>\n",
       "      <td>WASHINGTON (Reuters) - Trump campaign adviser ...</td>\n",
       "      <td>politicsNews</td>\n",
       "      <td>December 30, 2017</td>\n",
       "      <td>0</td>\n",
       "      <td>[FBI, NYT]</td>\n",
       "      <td>[GP, HC, NYT, AD, FBI, BD, TWH, TNYT, DTEPAFS,...</td>\n",
       "      <td>False</td>\n",
       "      <td>59</td>\n",
       "      <td>2461</td>\n",
       "    </tr>\n",
       "    <tr>\n",
       "      <th>4</th>\n",
       "      <td>Trump wants Postal Service to charge 'much mor...</td>\n",
       "      <td>SEATTLE/WASHINGTON (Reuters) - President Donal...</td>\n",
       "      <td>politicsNews</td>\n",
       "      <td>December 29, 2017</td>\n",
       "      <td>0</td>\n",
       "      <td>[]</td>\n",
       "      <td>[PDT, PSF, USPO, PO, PS, PS, PRC, JB, BN, TWP,...</td>\n",
       "      <td>False</td>\n",
       "      <td>69</td>\n",
       "      <td>5204</td>\n",
       "    </tr>\n",
       "  </tbody>\n",
       "</table>\n",
       "</div>"
      ],
      "text/plain": [
       "                                               title  \\\n",
       "0  As U.S. budget fight looms, Republicans flip t...   \n",
       "1  U.S. military to accept transgender recruits o...   \n",
       "2  Senior U.S. Republican senator: 'Let Mr. Muell...   \n",
       "3  FBI Russia probe helped by Australian diplomat...   \n",
       "4  Trump wants Postal Service to charge 'much mor...   \n",
       "\n",
       "                                                text       subject  \\\n",
       "0  WASHINGTON (Reuters) - The head of a conservat...  politicsNews   \n",
       "1  WASHINGTON (Reuters) - Transgender people will...  politicsNews   \n",
       "2  WASHINGTON (Reuters) - The special counsel inv...  politicsNews   \n",
       "3  WASHINGTON (Reuters) - Trump campaign adviser ...  politicsNews   \n",
       "4  SEATTLE/WASHINGTON (Reuters) - President Donal...  politicsNews   \n",
       "\n",
       "                 date  fake title_abbr_list  \\\n",
       "0  December 31, 2017      0              []   \n",
       "1  December 29, 2017      0              []   \n",
       "2  December 31, 2017      0              []   \n",
       "3  December 30, 2017      0      [FBI, NYT]   \n",
       "4  December 29, 2017      0              []   \n",
       "\n",
       "                                      text_abbr_list  has_cap_words  \\\n",
       "0  [RMM, FN, PDT, HFC, RJC, US, HR, HSPR, IR, MM,...          False   \n",
       "1  [PDT, JD, TDD, DC, IS, TDD, SC, HB, DD, JL, AC...          False   \n",
       "2  [RPT, LG, DJSCRM, FN, WH, NYT, HR, FBI, TR, CS...          False   \n",
       "3  [GP, HC, NYT, AD, FBI, BD, TWH, TNYT, DTEPAFS,...          False   \n",
       "4  [PDT, PSF, USPO, PO, PS, PS, PRC, JB, BN, TWP,...          False   \n",
       "\n",
       "   title_length  text_length  \n",
       "0            64         4659  \n",
       "1            64         4077  \n",
       "2            60         2789  \n",
       "3            59         2461  \n",
       "4            69         5204  "
      ]
     },
     "execution_count": 11,
     "metadata": {},
     "output_type": "execute_result"
    }
   ],
   "source": [
    "dataset.head()"
   ]
  },
  {
   "cell_type": "markdown",
   "metadata": {},
   "source": [
    "And looking at the subject column, it can be seen that that column deterministically predicts between fake and true news. This wouldn't really be a feature that we would get in a real life scenario. No point introducing that in a model in that case. <br>\n",
    "Date also should not be giving any new information. "
   ]
  },
  {
   "cell_type": "code",
   "execution_count": 12,
   "metadata": {
    "scrolled": true
   },
   "outputs": [
    {
     "name": "stdout",
     "output_type": "stream",
     "text": [
      "['politicsNews' 'worldnews']\n",
      "['News' 'politics' 'Government News' 'left-news' 'US_News' 'Middle-east']\n"
     ]
    }
   ],
   "source": [
    "print(dataset.loc[dataset['fake'] == 0, 'subject'].unique())\n",
    "print(dataset.loc[dataset['fake'] == 1, 'subject'].unique())"
   ]
  },
  {
   "cell_type": "markdown",
   "metadata": {},
   "source": [
    "Now, let us clean up the dataframe and split the data into train and test. <br>\n",
    "**IMPORTANT:** The test train split should have been done before all the rest above was done. In this way, the corpus abbreviation list has benefitted from data from the test set. In a real life scenario, split should have happened earlier and the feature engineering should have been repeated for train and test sets. But, I'm just too lazy to go up and change all of the code - especially since this is a simplistic model that wouldn't really be used when we have access to vectorizing the actual text of the article. "
   ]
  },
  {
   "cell_type": "code",
   "execution_count": 13,
   "metadata": {},
   "outputs": [
    {
     "data": {
      "text/html": [
       "<div>\n",
       "<style scoped>\n",
       "    .dataframe tbody tr th:only-of-type {\n",
       "        vertical-align: middle;\n",
       "    }\n",
       "\n",
       "    .dataframe tbody tr th {\n",
       "        vertical-align: top;\n",
       "    }\n",
       "\n",
       "    .dataframe thead th {\n",
       "        text-align: right;\n",
       "    }\n",
       "</style>\n",
       "<table border=\"1\" class=\"dataframe\">\n",
       "  <thead>\n",
       "    <tr style=\"text-align: right;\">\n",
       "      <th></th>\n",
       "      <th>fake</th>\n",
       "      <th>has_cap_words</th>\n",
       "      <th>title_length</th>\n",
       "      <th>text_length</th>\n",
       "    </tr>\n",
       "  </thead>\n",
       "  <tbody>\n",
       "    <tr>\n",
       "      <th>0</th>\n",
       "      <td>0</td>\n",
       "      <td>False</td>\n",
       "      <td>64</td>\n",
       "      <td>4659</td>\n",
       "    </tr>\n",
       "    <tr>\n",
       "      <th>1</th>\n",
       "      <td>0</td>\n",
       "      <td>False</td>\n",
       "      <td>64</td>\n",
       "      <td>4077</td>\n",
       "    </tr>\n",
       "    <tr>\n",
       "      <th>2</th>\n",
       "      <td>0</td>\n",
       "      <td>False</td>\n",
       "      <td>60</td>\n",
       "      <td>2789</td>\n",
       "    </tr>\n",
       "    <tr>\n",
       "      <th>3</th>\n",
       "      <td>0</td>\n",
       "      <td>False</td>\n",
       "      <td>59</td>\n",
       "      <td>2461</td>\n",
       "    </tr>\n",
       "    <tr>\n",
       "      <th>4</th>\n",
       "      <td>0</td>\n",
       "      <td>False</td>\n",
       "      <td>69</td>\n",
       "      <td>5204</td>\n",
       "    </tr>\n",
       "  </tbody>\n",
       "</table>\n",
       "</div>"
      ],
      "text/plain": [
       "   fake  has_cap_words  title_length  text_length\n",
       "0     0          False            64         4659\n",
       "1     0          False            64         4077\n",
       "2     0          False            60         2789\n",
       "3     0          False            59         2461\n",
       "4     0          False            69         5204"
      ]
     },
     "execution_count": 13,
     "metadata": {},
     "output_type": "execute_result"
    }
   ],
   "source": [
    "dataset.drop(['title', 'text', 'subject', 'date', 'title_abbr_list', \n",
    "              'text_abbr_list'], axis = 1, inplace = True)\n",
    "dataset.head()"
   ]
  },
  {
   "cell_type": "code",
   "execution_count": 14,
   "metadata": {},
   "outputs": [],
   "source": [
    "x_train, x_test, y_train, y_test = train_test_split(dataset[['has_cap_words', 'title_length', 'text_length']], \n",
    "                                                    dataset.fake, test_size = 0.2, random_state = 42)"
   ]
  },
  {
   "cell_type": "code",
   "execution_count": 15,
   "metadata": {},
   "outputs": [
    {
     "data": {
      "text/html": [
       "<div>\n",
       "<style scoped>\n",
       "    .dataframe tbody tr th:only-of-type {\n",
       "        vertical-align: middle;\n",
       "    }\n",
       "\n",
       "    .dataframe tbody tr th {\n",
       "        vertical-align: top;\n",
       "    }\n",
       "\n",
       "    .dataframe thead th {\n",
       "        text-align: right;\n",
       "    }\n",
       "</style>\n",
       "<table border=\"1\" class=\"dataframe\">\n",
       "  <thead>\n",
       "    <tr style=\"text-align: right;\">\n",
       "      <th></th>\n",
       "      <th>has_cap_words</th>\n",
       "      <th>title_length</th>\n",
       "      <th>text_length</th>\n",
       "    </tr>\n",
       "  </thead>\n",
       "  <tbody>\n",
       "    <tr>\n",
       "      <th>36335</th>\n",
       "      <td>True</td>\n",
       "      <td>82</td>\n",
       "      <td>1534</td>\n",
       "    </tr>\n",
       "    <tr>\n",
       "      <th>12384</th>\n",
       "      <td>False</td>\n",
       "      <td>63</td>\n",
       "      <td>558</td>\n",
       "    </tr>\n",
       "    <tr>\n",
       "      <th>24419</th>\n",
       "      <td>False</td>\n",
       "      <td>77</td>\n",
       "      <td>2062</td>\n",
       "    </tr>\n",
       "    <tr>\n",
       "      <th>24740</th>\n",
       "      <td>True</td>\n",
       "      <td>77</td>\n",
       "      <td>3414</td>\n",
       "    </tr>\n",
       "    <tr>\n",
       "      <th>27039</th>\n",
       "      <td>False</td>\n",
       "      <td>87</td>\n",
       "      <td>2732</td>\n",
       "    </tr>\n",
       "    <tr>\n",
       "      <th>...</th>\n",
       "      <td>...</td>\n",
       "      <td>...</td>\n",
       "      <td>...</td>\n",
       "    </tr>\n",
       "    <tr>\n",
       "      <th>11284</th>\n",
       "      <td>False</td>\n",
       "      <td>64</td>\n",
       "      <td>1703</td>\n",
       "    </tr>\n",
       "    <tr>\n",
       "      <th>44732</th>\n",
       "      <td>False</td>\n",
       "      <td>33</td>\n",
       "      <td>821</td>\n",
       "    </tr>\n",
       "    <tr>\n",
       "      <th>38158</th>\n",
       "      <td>True</td>\n",
       "      <td>62</td>\n",
       "      <td>1891</td>\n",
       "    </tr>\n",
       "    <tr>\n",
       "      <th>860</th>\n",
       "      <td>False</td>\n",
       "      <td>65</td>\n",
       "      <td>2680</td>\n",
       "    </tr>\n",
       "    <tr>\n",
       "      <th>15795</th>\n",
       "      <td>False</td>\n",
       "      <td>89</td>\n",
       "      <td>3288</td>\n",
       "    </tr>\n",
       "  </tbody>\n",
       "</table>\n",
       "<p>35918 rows × 3 columns</p>\n",
       "</div>"
      ],
      "text/plain": [
       "       has_cap_words  title_length  text_length\n",
       "36335           True            82         1534\n",
       "12384          False            63          558\n",
       "24419          False            77         2062\n",
       "24740           True            77         3414\n",
       "27039          False            87         2732\n",
       "...              ...           ...          ...\n",
       "11284          False            64         1703\n",
       "44732          False            33          821\n",
       "38158           True            62         1891\n",
       "860            False            65         2680\n",
       "15795          False            89         3288\n",
       "\n",
       "[35918 rows x 3 columns]"
      ]
     },
     "execution_count": 15,
     "metadata": {},
     "output_type": "execute_result"
    }
   ],
   "source": [
    "x_train"
   ]
  },
  {
   "cell_type": "code",
   "execution_count": 16,
   "metadata": {},
   "outputs": [
    {
     "name": "stdout",
     "output_type": "stream",
     "text": [
      "[[4233   97]\n",
      " [ 598 4052]]\n",
      "0.9226057906458798\n"
     ]
    }
   ],
   "source": [
    "logit_model = LogisticRegression(solver = 'lbfgs')\n",
    "logit_model.fit(x_train, y_train)                          \n",
    "\n",
    "y_pred = logit_model.predict(x_test)\n",
    "\n",
    "print(confusion_matrix(y_test, y_pred))\n",
    "print(accuracy_score(y_test, y_pred))"
   ]
  },
  {
   "cell_type": "code",
   "execution_count": 17,
   "metadata": {},
   "outputs": [
    {
     "name": "stdout",
     "output_type": "stream",
     "text": [
      "[[3888  442]\n",
      " [ 848 3802]]\n",
      "0.856347438752784\n"
     ]
    }
   ],
   "source": [
    "knn_model = KNeighborsClassifier(n_neighbors = 9)\n",
    "knn_model.fit(x_train, y_train)                          \n",
    "\n",
    "y_pred = knn_model.predict(x_test)\n",
    "\n",
    "print(confusion_matrix(y_test, y_pred))\n",
    "print(accuracy_score(y_test, y_pred))"
   ]
  },
  {
   "cell_type": "code",
   "execution_count": 18,
   "metadata": {},
   "outputs": [
    {
     "name": "stdout",
     "output_type": "stream",
     "text": [
      "[[4274   56]\n",
      " [ 741 3909]]\n",
      "0.9112472160356347\n"
     ]
    }
   ],
   "source": [
    "gnb_model = GaussianNB()\n",
    "gnb_model.fit(x_train, y_train)                          \n",
    "\n",
    "y_pred = gnb_model.predict(x_test)\n",
    "\n",
    "print(confusion_matrix(y_test, y_pred))\n",
    "print(accuracy_score(y_test, y_pred))"
   ]
  },
  {
   "cell_type": "code",
   "execution_count": 19,
   "metadata": {},
   "outputs": [
    {
     "name": "stdout",
     "output_type": "stream",
     "text": [
      "[[3932  398]\n",
      " [ 332 4318]]\n",
      "0.9187082405345212\n"
     ]
    }
   ],
   "source": [
    "tree_model = DecisionTreeClassifier()\n",
    "tree_model.fit(x_train, y_train)                           \n",
    "\n",
    "y_pred = tree_model.predict(x_test)\n",
    "\n",
    "print(confusion_matrix(y_test, y_pred))\n",
    "print(accuracy_score(y_test, y_pred))"
   ]
  },
  {
   "cell_type": "code",
   "execution_count": 20,
   "metadata": {},
   "outputs": [
    {
     "name": "stdout",
     "output_type": "stream",
     "text": [
      "[[3989  341]\n",
      " [ 336 4314]]\n",
      "0.9246102449888641\n"
     ]
    }
   ],
   "source": [
    "rf_model = RandomForestClassifier(n_estimators = 50)\n",
    "rf_model.fit(x_train, y_train)                           \n",
    "\n",
    "y_pred = rf_model.predict(x_test)\n",
    "\n",
    "print(confusion_matrix(y_test, y_pred))\n",
    "print(accuracy_score(y_test, y_pred))"
   ]
  },
  {
   "cell_type": "markdown",
   "metadata": {},
   "source": [
    "Not too bad for an approach not even using the text information. Over 92% accuracy for random forest and logit models. Now, let us try moving onto using the text. \n",
    "## Approach 2\n",
    "Using only about 50% (20000 records) of the data for this approach for faster processing. "
   ]
  },
  {
   "cell_type": "code",
   "execution_count": 21,
   "metadata": {},
   "outputs": [
    {
     "name": "stderr",
     "output_type": "stream",
     "text": [
      "2020-05-14 11:53:14,696 : INFO : NumExpr defaulting to 4 threads.\n"
     ]
    },
    {
     "data": {
      "text/html": [
       "<div>\n",
       "<style scoped>\n",
       "    .dataframe tbody tr th:only-of-type {\n",
       "        vertical-align: middle;\n",
       "    }\n",
       "\n",
       "    .dataframe tbody tr th {\n",
       "        vertical-align: top;\n",
       "    }\n",
       "\n",
       "    .dataframe thead th {\n",
       "        text-align: right;\n",
       "    }\n",
       "</style>\n",
       "<table border=\"1\" class=\"dataframe\">\n",
       "  <thead>\n",
       "    <tr style=\"text-align: right;\">\n",
       "      <th></th>\n",
       "      <th>text</th>\n",
       "      <th>fake</th>\n",
       "    </tr>\n",
       "  </thead>\n",
       "  <tbody>\n",
       "    <tr>\n",
       "      <th>12955</th>\n",
       "      <td>tillerson to visit africa in first quarter of ...</td>\n",
       "      <td>0</td>\n",
       "    </tr>\n",
       "    <tr>\n",
       "      <th>677</th>\n",
       "      <td>trump asked putin if allegations of russian me...</td>\n",
       "      <td>0</td>\n",
       "    </tr>\n",
       "    <tr>\n",
       "      <th>25213</th>\n",
       "      <td>watch: hypocrite trump supporter gets buried ...</td>\n",
       "      <td>1</td>\n",
       "    </tr>\n",
       "    <tr>\n",
       "      <th>37292</th>\n",
       "      <td>hysterical video: saturday night live does cnn...</td>\n",
       "      <td>1</td>\n",
       "    </tr>\n",
       "    <tr>\n",
       "      <th>23283</th>\n",
       "      <td>breaking: c.i.a. knew russia wanted trump way...</td>\n",
       "      <td>1</td>\n",
       "    </tr>\n",
       "  </tbody>\n",
       "</table>\n",
       "</div>"
      ],
      "text/plain": [
       "                                                    text  fake\n",
       "12955  tillerson to visit africa in first quarter of ...     0\n",
       "677    trump asked putin if allegations of russian me...     0\n",
       "25213   watch: hypocrite trump supporter gets buried ...     1\n",
       "37292  hysterical video: saturday night live does cnn...     1\n",
       "23283   breaking: c.i.a. knew russia wanted trump way...     1"
      ]
     },
     "execution_count": 21,
     "metadata": {},
     "output_type": "execute_result"
    }
   ],
   "source": [
    "true = pd.read_csv(\"dataset/true.csv\")\n",
    "fake = pd.read_csv(\"dataset/fake.csv\")\n",
    "\n",
    "true['fake'] = 0\n",
    "fake['fake'] = 1\n",
    "\n",
    "dataset = true.append(fake, ignore_index = True)\n",
    "\n",
    "# taking a smaller sample for faster processing\n",
    "dataset = dataset.sample(20000)\n",
    "\n",
    "# drop unnecessary columns, convert all text to lower case\n",
    "dataset['text'] = dataset['title'] + dataset['text']\n",
    "dataset.drop(columns = ['title', 'subject', 'date'], inplace = True)\n",
    "dataset['text'] = dataset['text'].str.lower()\n",
    "\n",
    "dataset.head()"
   ]
  },
  {
   "cell_type": "code",
   "execution_count": 22,
   "metadata": {},
   "outputs": [
    {
     "data": {
      "text/html": [
       "<div>\n",
       "<style scoped>\n",
       "    .dataframe tbody tr th:only-of-type {\n",
       "        vertical-align: middle;\n",
       "    }\n",
       "\n",
       "    .dataframe tbody tr th {\n",
       "        vertical-align: top;\n",
       "    }\n",
       "\n",
       "    .dataframe thead th {\n",
       "        text-align: right;\n",
       "    }\n",
       "</style>\n",
       "<table border=\"1\" class=\"dataframe\">\n",
       "  <thead>\n",
       "    <tr style=\"text-align: right;\">\n",
       "      <th></th>\n",
       "      <th>text</th>\n",
       "      <th>fake</th>\n",
       "    </tr>\n",
       "  </thead>\n",
       "  <tbody>\n",
       "    <tr>\n",
       "      <th>37280</th>\n",
       "      <td>[video] hundreds of mormon fundamentalists sur...</td>\n",
       "      <td>1</td>\n",
       "    </tr>\n",
       "    <tr>\n",
       "      <th>7264</th>\n",
       "      <td>georgia congressman being eyed for top trump h...</td>\n",
       "      <td>0</td>\n",
       "    </tr>\n",
       "    <tr>\n",
       "      <th>20718</th>\n",
       "      <td>former guerrilla coalition gets mandate to for...</td>\n",
       "      <td>0</td>\n",
       "    </tr>\n",
       "    <tr>\n",
       "      <th>3597</th>\n",
       "      <td>trump retains marc kasowitz as private attorne...</td>\n",
       "      <td>0</td>\n",
       "    </tr>\n",
       "    <tr>\n",
       "      <th>10836</th>\n",
       "      <td>senate leader mcconnell says wait on replacing...</td>\n",
       "      <td>0</td>\n",
       "    </tr>\n",
       "  </tbody>\n",
       "</table>\n",
       "</div>"
      ],
      "text/plain": [
       "                                                    text  fake\n",
       "37280  [video] hundreds of mormon fundamentalists sur...     1\n",
       "7264   georgia congressman being eyed for top trump h...     0\n",
       "20718  former guerrilla coalition gets mandate to for...     0\n",
       "3597   trump retains marc kasowitz as private attorne...     0\n",
       "10836  senate leader mcconnell says wait on replacing...     0"
      ]
     },
     "execution_count": 22,
     "metadata": {},
     "output_type": "execute_result"
    }
   ],
   "source": [
    "# split test and train sets\n",
    "train, test = train_test_split(dataset, test_size = 0.2, random_state = 42)\n",
    "train.head()"
   ]
  },
  {
   "cell_type": "markdown",
   "metadata": {},
   "source": [
    "Now, let us vectorize the text, build a vocabulary, find features of the test set according to this vocabulary and make a new x_test using these features. Further, keep only the top 10000 most frequent vocabulary words. Later words have very less to offer as they are too infrequent and also takes up too much time."
   ]
  },
  {
   "cell_type": "code",
   "execution_count": 23,
   "metadata": {},
   "outputs": [
    {
     "data": {
      "text/html": [
       "<div>\n",
       "<style scoped>\n",
       "    .dataframe tbody tr th:only-of-type {\n",
       "        vertical-align: middle;\n",
       "    }\n",
       "\n",
       "    .dataframe tbody tr th {\n",
       "        vertical-align: top;\n",
       "    }\n",
       "\n",
       "    .dataframe thead th {\n",
       "        text-align: right;\n",
       "    }\n",
       "</style>\n",
       "<table border=\"1\" class=\"dataframe\">\n",
       "  <thead>\n",
       "    <tr style=\"text-align: right;\">\n",
       "      <th></th>\n",
       "      <th>00</th>\n",
       "      <th>000</th>\n",
       "      <th>0000</th>\n",
       "      <th>00000017</th>\n",
       "      <th>00004</th>\n",
       "      <th>00007</th>\n",
       "      <th>0009</th>\n",
       "      <th>000938</th>\n",
       "      <th>000a</th>\n",
       "      <th>000after</th>\n",
       "      <th>...</th>\n",
       "      <th>zzjjpdaivn</th>\n",
       "      <th>zzqvyk8xif</th>\n",
       "      <th>zzsg90pbf6</th>\n",
       "      <th>zztaine</th>\n",
       "      <th>zzucqevt3m</th>\n",
       "      <th>zzzzaaaacccchhh</th>\n",
       "      <th>zzzzzzzz</th>\n",
       "      <th>émigré</th>\n",
       "      <th>état</th>\n",
       "      <th>žižek</th>\n",
       "    </tr>\n",
       "  </thead>\n",
       "  <tbody>\n",
       "    <tr>\n",
       "      <th>0</th>\n",
       "      <td>0.0</td>\n",
       "      <td>0.0000</td>\n",
       "      <td>0.0</td>\n",
       "      <td>0.0</td>\n",
       "      <td>0.0</td>\n",
       "      <td>0.0</td>\n",
       "      <td>0.0</td>\n",
       "      <td>0.0</td>\n",
       "      <td>0.0</td>\n",
       "      <td>0.0</td>\n",
       "      <td>...</td>\n",
       "      <td>0.0</td>\n",
       "      <td>0.0</td>\n",
       "      <td>0.0</td>\n",
       "      <td>0.0</td>\n",
       "      <td>0.0</td>\n",
       "      <td>0.0</td>\n",
       "      <td>0.0</td>\n",
       "      <td>0.0</td>\n",
       "      <td>0.0</td>\n",
       "      <td>0.0</td>\n",
       "    </tr>\n",
       "    <tr>\n",
       "      <th>1</th>\n",
       "      <td>0.0</td>\n",
       "      <td>0.0000</td>\n",
       "      <td>0.0</td>\n",
       "      <td>0.0</td>\n",
       "      <td>0.0</td>\n",
       "      <td>0.0</td>\n",
       "      <td>0.0</td>\n",
       "      <td>0.0</td>\n",
       "      <td>0.0</td>\n",
       "      <td>0.0</td>\n",
       "      <td>...</td>\n",
       "      <td>0.0</td>\n",
       "      <td>0.0</td>\n",
       "      <td>0.0</td>\n",
       "      <td>0.0</td>\n",
       "      <td>0.0</td>\n",
       "      <td>0.0</td>\n",
       "      <td>0.0</td>\n",
       "      <td>0.0</td>\n",
       "      <td>0.0</td>\n",
       "      <td>0.0</td>\n",
       "    </tr>\n",
       "    <tr>\n",
       "      <th>2</th>\n",
       "      <td>0.0</td>\n",
       "      <td>0.0305</td>\n",
       "      <td>0.0</td>\n",
       "      <td>0.0</td>\n",
       "      <td>0.0</td>\n",
       "      <td>0.0</td>\n",
       "      <td>0.0</td>\n",
       "      <td>0.0</td>\n",
       "      <td>0.0</td>\n",
       "      <td>0.0</td>\n",
       "      <td>...</td>\n",
       "      <td>0.0</td>\n",
       "      <td>0.0</td>\n",
       "      <td>0.0</td>\n",
       "      <td>0.0</td>\n",
       "      <td>0.0</td>\n",
       "      <td>0.0</td>\n",
       "      <td>0.0</td>\n",
       "      <td>0.0</td>\n",
       "      <td>0.0</td>\n",
       "      <td>0.0</td>\n",
       "    </tr>\n",
       "    <tr>\n",
       "      <th>3</th>\n",
       "      <td>0.0</td>\n",
       "      <td>0.0000</td>\n",
       "      <td>0.0</td>\n",
       "      <td>0.0</td>\n",
       "      <td>0.0</td>\n",
       "      <td>0.0</td>\n",
       "      <td>0.0</td>\n",
       "      <td>0.0</td>\n",
       "      <td>0.0</td>\n",
       "      <td>0.0</td>\n",
       "      <td>...</td>\n",
       "      <td>0.0</td>\n",
       "      <td>0.0</td>\n",
       "      <td>0.0</td>\n",
       "      <td>0.0</td>\n",
       "      <td>0.0</td>\n",
       "      <td>0.0</td>\n",
       "      <td>0.0</td>\n",
       "      <td>0.0</td>\n",
       "      <td>0.0</td>\n",
       "      <td>0.0</td>\n",
       "    </tr>\n",
       "    <tr>\n",
       "      <th>4</th>\n",
       "      <td>0.0</td>\n",
       "      <td>0.0000</td>\n",
       "      <td>0.0</td>\n",
       "      <td>0.0</td>\n",
       "      <td>0.0</td>\n",
       "      <td>0.0</td>\n",
       "      <td>0.0</td>\n",
       "      <td>0.0</td>\n",
       "      <td>0.0</td>\n",
       "      <td>0.0</td>\n",
       "      <td>...</td>\n",
       "      <td>0.0</td>\n",
       "      <td>0.0</td>\n",
       "      <td>0.0</td>\n",
       "      <td>0.0</td>\n",
       "      <td>0.0</td>\n",
       "      <td>0.0</td>\n",
       "      <td>0.0</td>\n",
       "      <td>0.0</td>\n",
       "      <td>0.0</td>\n",
       "      <td>0.0</td>\n",
       "    </tr>\n",
       "  </tbody>\n",
       "</table>\n",
       "<p>5 rows × 86690 columns</p>\n",
       "</div>"
      ],
      "text/plain": [
       "    00     000  0000  00000017  00004  00007  0009  000938  000a  000after  \\\n",
       "0  0.0  0.0000   0.0       0.0    0.0    0.0   0.0     0.0   0.0       0.0   \n",
       "1  0.0  0.0000   0.0       0.0    0.0    0.0   0.0     0.0   0.0       0.0   \n",
       "2  0.0  0.0305   0.0       0.0    0.0    0.0   0.0     0.0   0.0       0.0   \n",
       "3  0.0  0.0000   0.0       0.0    0.0    0.0   0.0     0.0   0.0       0.0   \n",
       "4  0.0  0.0000   0.0       0.0    0.0    0.0   0.0     0.0   0.0       0.0   \n",
       "\n",
       "   ...  zzjjpdaivn  zzqvyk8xif  zzsg90pbf6  zztaine  zzucqevt3m  \\\n",
       "0  ...         0.0         0.0         0.0      0.0         0.0   \n",
       "1  ...         0.0         0.0         0.0      0.0         0.0   \n",
       "2  ...         0.0         0.0         0.0      0.0         0.0   \n",
       "3  ...         0.0         0.0         0.0      0.0         0.0   \n",
       "4  ...         0.0         0.0         0.0      0.0         0.0   \n",
       "\n",
       "   zzzzaaaacccchhh  zzzzzzzz  émigré  état  žižek  \n",
       "0              0.0       0.0     0.0   0.0    0.0  \n",
       "1              0.0       0.0     0.0   0.0    0.0  \n",
       "2              0.0       0.0     0.0   0.0    0.0  \n",
       "3              0.0       0.0     0.0   0.0    0.0  \n",
       "4              0.0       0.0     0.0   0.0    0.0  \n",
       "\n",
       "[5 rows x 86690 columns]"
      ]
     },
     "execution_count": 23,
     "metadata": {},
     "output_type": "execute_result"
    }
   ],
   "source": [
    "# get features for train\n",
    "tf_idf_vectorizer = TfidfVectorizer(use_idf = True, stop_words = 'english')\n",
    "tf_idf_vector_features_train = tf_idf_vectorizer.fit_transform(train.text).toarray()\n",
    "\n",
    "# get vocabulary (all of it)\n",
    "vocab_items = {v: k for k, v in tf_idf_vectorizer.vocabulary_.items()}\n",
    "vocab = [vocab_items[i] for i in range(len(vocab_items))]\n",
    "\n",
    "# make a new x_test with the sparse matrix\n",
    "x_train = pd.DataFrame(tf_idf_vector_features_train, columns = vocab)\n",
    "\n",
    "x_train.head()"
   ]
  },
  {
   "cell_type": "code",
   "execution_count": 24,
   "metadata": {},
   "outputs": [
    {
     "data": {
      "text/html": [
       "<div>\n",
       "<style scoped>\n",
       "    .dataframe tbody tr th:only-of-type {\n",
       "        vertical-align: middle;\n",
       "    }\n",
       "\n",
       "    .dataframe tbody tr th {\n",
       "        vertical-align: top;\n",
       "    }\n",
       "\n",
       "    .dataframe thead th {\n",
       "        text-align: right;\n",
       "    }\n",
       "</style>\n",
       "<table border=\"1\" class=\"dataframe\">\n",
       "  <thead>\n",
       "    <tr style=\"text-align: right;\">\n",
       "      <th></th>\n",
       "      <th>12th</th>\n",
       "      <th>realclearpolitics</th>\n",
       "      <th>streams</th>\n",
       "      <th>clan</th>\n",
       "      <th>venezuelans</th>\n",
       "      <th>policymakers</th>\n",
       "      <th>coin</th>\n",
       "      <th>biological</th>\n",
       "      <th>sekulow</th>\n",
       "      <th>winston</th>\n",
       "      <th>...</th>\n",
       "      <th>video</th>\n",
       "      <th>republican</th>\n",
       "      <th>house</th>\n",
       "      <th>state</th>\n",
       "      <th>people</th>\n",
       "      <th>obama</th>\n",
       "      <th>clinton</th>\n",
       "      <th>president</th>\n",
       "      <th>said</th>\n",
       "      <th>trump</th>\n",
       "    </tr>\n",
       "  </thead>\n",
       "  <tbody>\n",
       "    <tr>\n",
       "      <th>0</th>\n",
       "      <td>0.0</td>\n",
       "      <td>0.0</td>\n",
       "      <td>0.0</td>\n",
       "      <td>0.0</td>\n",
       "      <td>0.0</td>\n",
       "      <td>0.0</td>\n",
       "      <td>0.0</td>\n",
       "      <td>0.0</td>\n",
       "      <td>0.0</td>\n",
       "      <td>0.0</td>\n",
       "      <td>...</td>\n",
       "      <td>0.01472</td>\n",
       "      <td>0.000000</td>\n",
       "      <td>0.027455</td>\n",
       "      <td>0.0</td>\n",
       "      <td>0.000000</td>\n",
       "      <td>0.00000</td>\n",
       "      <td>0.0</td>\n",
       "      <td>0.000000</td>\n",
       "      <td>0.008012</td>\n",
       "      <td>0.000000</td>\n",
       "    </tr>\n",
       "    <tr>\n",
       "      <th>1</th>\n",
       "      <td>0.0</td>\n",
       "      <td>0.0</td>\n",
       "      <td>0.0</td>\n",
       "      <td>0.0</td>\n",
       "      <td>0.0</td>\n",
       "      <td>0.0</td>\n",
       "      <td>0.0</td>\n",
       "      <td>0.0</td>\n",
       "      <td>0.0</td>\n",
       "      <td>0.0</td>\n",
       "      <td>...</td>\n",
       "      <td>0.00000</td>\n",
       "      <td>0.073775</td>\n",
       "      <td>0.070590</td>\n",
       "      <td>0.0</td>\n",
       "      <td>0.000000</td>\n",
       "      <td>0.07792</td>\n",
       "      <td>0.0</td>\n",
       "      <td>0.051415</td>\n",
       "      <td>0.000000</td>\n",
       "      <td>0.158529</td>\n",
       "    </tr>\n",
       "    <tr>\n",
       "      <th>2</th>\n",
       "      <td>0.0</td>\n",
       "      <td>0.0</td>\n",
       "      <td>0.0</td>\n",
       "      <td>0.0</td>\n",
       "      <td>0.0</td>\n",
       "      <td>0.0</td>\n",
       "      <td>0.0</td>\n",
       "      <td>0.0</td>\n",
       "      <td>0.0</td>\n",
       "      <td>0.0</td>\n",
       "      <td>...</td>\n",
       "      <td>0.00000</td>\n",
       "      <td>0.000000</td>\n",
       "      <td>0.000000</td>\n",
       "      <td>0.0</td>\n",
       "      <td>0.000000</td>\n",
       "      <td>0.00000</td>\n",
       "      <td>0.0</td>\n",
       "      <td>0.016896</td>\n",
       "      <td>0.000000</td>\n",
       "      <td>0.000000</td>\n",
       "    </tr>\n",
       "    <tr>\n",
       "      <th>3</th>\n",
       "      <td>0.0</td>\n",
       "      <td>0.0</td>\n",
       "      <td>0.0</td>\n",
       "      <td>0.0</td>\n",
       "      <td>0.0</td>\n",
       "      <td>0.0</td>\n",
       "      <td>0.0</td>\n",
       "      <td>0.0</td>\n",
       "      <td>0.0</td>\n",
       "      <td>0.0</td>\n",
       "      <td>...</td>\n",
       "      <td>0.00000</td>\n",
       "      <td>0.000000</td>\n",
       "      <td>0.036859</td>\n",
       "      <td>0.0</td>\n",
       "      <td>0.000000</td>\n",
       "      <td>0.00000</td>\n",
       "      <td>0.0</td>\n",
       "      <td>0.013423</td>\n",
       "      <td>0.032269</td>\n",
       "      <td>0.206941</td>\n",
       "    </tr>\n",
       "    <tr>\n",
       "      <th>4</th>\n",
       "      <td>0.0</td>\n",
       "      <td>0.0</td>\n",
       "      <td>0.0</td>\n",
       "      <td>0.0</td>\n",
       "      <td>0.0</td>\n",
       "      <td>0.0</td>\n",
       "      <td>0.0</td>\n",
       "      <td>0.0</td>\n",
       "      <td>0.0</td>\n",
       "      <td>0.0</td>\n",
       "      <td>...</td>\n",
       "      <td>0.00000</td>\n",
       "      <td>0.071872</td>\n",
       "      <td>0.000000</td>\n",
       "      <td>0.0</td>\n",
       "      <td>0.056291</td>\n",
       "      <td>0.00000</td>\n",
       "      <td>0.0</td>\n",
       "      <td>0.100178</td>\n",
       "      <td>0.080274</td>\n",
       "      <td>0.000000</td>\n",
       "    </tr>\n",
       "  </tbody>\n",
       "</table>\n",
       "<p>5 rows × 10000 columns</p>\n",
       "</div>"
      ],
      "text/plain": [
       "   12th  realclearpolitics  streams  clan  venezuelans  policymakers  coin  \\\n",
       "0   0.0                0.0      0.0   0.0          0.0           0.0   0.0   \n",
       "1   0.0                0.0      0.0   0.0          0.0           0.0   0.0   \n",
       "2   0.0                0.0      0.0   0.0          0.0           0.0   0.0   \n",
       "3   0.0                0.0      0.0   0.0          0.0           0.0   0.0   \n",
       "4   0.0                0.0      0.0   0.0          0.0           0.0   0.0   \n",
       "\n",
       "   biological  sekulow  winston  ...    video  republican     house  state  \\\n",
       "0         0.0      0.0      0.0  ...  0.01472    0.000000  0.027455    0.0   \n",
       "1         0.0      0.0      0.0  ...  0.00000    0.073775  0.070590    0.0   \n",
       "2         0.0      0.0      0.0  ...  0.00000    0.000000  0.000000    0.0   \n",
       "3         0.0      0.0      0.0  ...  0.00000    0.000000  0.036859    0.0   \n",
       "4         0.0      0.0      0.0  ...  0.00000    0.071872  0.000000    0.0   \n",
       "\n",
       "     people    obama  clinton  president      said     trump  \n",
       "0  0.000000  0.00000      0.0   0.000000  0.008012  0.000000  \n",
       "1  0.000000  0.07792      0.0   0.051415  0.000000  0.158529  \n",
       "2  0.000000  0.00000      0.0   0.016896  0.000000  0.000000  \n",
       "3  0.000000  0.00000      0.0   0.013423  0.032269  0.206941  \n",
       "4  0.056291  0.00000      0.0   0.100178  0.080274  0.000000  \n",
       "\n",
       "[5 rows x 10000 columns]"
      ]
     },
     "execution_count": 24,
     "metadata": {},
     "output_type": "execute_result"
    }
   ],
   "source": [
    "# keep only the most frequently occuring 10000 words in the sparse matrix\n",
    "most_freq_10000 = list(x_train.sum(axis = 0).sort_values()[-10000:].index)\n",
    "x_train = x_train[most_freq_10000]\n",
    "\n",
    "x_train.head()"
   ]
  },
  {
   "cell_type": "markdown",
   "metadata": {},
   "source": [
    "Next, we need to do all the same pre-processing for the test set as well. We need to use the same vocabulary to get the features and we will use the same set of most common 10000 words."
   ]
  },
  {
   "cell_type": "code",
   "execution_count": 25,
   "metadata": {},
   "outputs": [
    {
     "data": {
      "text/html": [
       "<div>\n",
       "<style scoped>\n",
       "    .dataframe tbody tr th:only-of-type {\n",
       "        vertical-align: middle;\n",
       "    }\n",
       "\n",
       "    .dataframe tbody tr th {\n",
       "        vertical-align: top;\n",
       "    }\n",
       "\n",
       "    .dataframe thead th {\n",
       "        text-align: right;\n",
       "    }\n",
       "</style>\n",
       "<table border=\"1\" class=\"dataframe\">\n",
       "  <thead>\n",
       "    <tr style=\"text-align: right;\">\n",
       "      <th></th>\n",
       "      <th>12th</th>\n",
       "      <th>realclearpolitics</th>\n",
       "      <th>streams</th>\n",
       "      <th>clan</th>\n",
       "      <th>venezuelans</th>\n",
       "      <th>policymakers</th>\n",
       "      <th>coin</th>\n",
       "      <th>biological</th>\n",
       "      <th>sekulow</th>\n",
       "      <th>winston</th>\n",
       "      <th>...</th>\n",
       "      <th>video</th>\n",
       "      <th>republican</th>\n",
       "      <th>house</th>\n",
       "      <th>state</th>\n",
       "      <th>people</th>\n",
       "      <th>obama</th>\n",
       "      <th>clinton</th>\n",
       "      <th>president</th>\n",
       "      <th>said</th>\n",
       "      <th>trump</th>\n",
       "    </tr>\n",
       "  </thead>\n",
       "  <tbody>\n",
       "    <tr>\n",
       "      <th>0</th>\n",
       "      <td>0.0</td>\n",
       "      <td>0.0</td>\n",
       "      <td>0.0</td>\n",
       "      <td>0.0</td>\n",
       "      <td>0.0</td>\n",
       "      <td>0.0</td>\n",
       "      <td>0.0</td>\n",
       "      <td>0.0</td>\n",
       "      <td>0.0</td>\n",
       "      <td>0.0</td>\n",
       "      <td>...</td>\n",
       "      <td>0.000000</td>\n",
       "      <td>0.0</td>\n",
       "      <td>0.000000</td>\n",
       "      <td>0.000000</td>\n",
       "      <td>0.049706</td>\n",
       "      <td>0.0</td>\n",
       "      <td>0.0</td>\n",
       "      <td>0.000000</td>\n",
       "      <td>0.035442</td>\n",
       "      <td>0.000000</td>\n",
       "    </tr>\n",
       "    <tr>\n",
       "      <th>1</th>\n",
       "      <td>0.0</td>\n",
       "      <td>0.0</td>\n",
       "      <td>0.0</td>\n",
       "      <td>0.0</td>\n",
       "      <td>0.0</td>\n",
       "      <td>0.0</td>\n",
       "      <td>0.0</td>\n",
       "      <td>0.0</td>\n",
       "      <td>0.0</td>\n",
       "      <td>0.0</td>\n",
       "      <td>...</td>\n",
       "      <td>0.000000</td>\n",
       "      <td>0.0</td>\n",
       "      <td>0.000000</td>\n",
       "      <td>0.008015</td>\n",
       "      <td>0.000000</td>\n",
       "      <td>0.0</td>\n",
       "      <td>0.0</td>\n",
       "      <td>0.030946</td>\n",
       "      <td>0.024798</td>\n",
       "      <td>0.000000</td>\n",
       "    </tr>\n",
       "    <tr>\n",
       "      <th>2</th>\n",
       "      <td>0.0</td>\n",
       "      <td>0.0</td>\n",
       "      <td>0.0</td>\n",
       "      <td>0.0</td>\n",
       "      <td>0.0</td>\n",
       "      <td>0.0</td>\n",
       "      <td>0.0</td>\n",
       "      <td>0.0</td>\n",
       "      <td>0.0</td>\n",
       "      <td>0.0</td>\n",
       "      <td>...</td>\n",
       "      <td>0.000000</td>\n",
       "      <td>0.0</td>\n",
       "      <td>0.032083</td>\n",
       "      <td>0.030262</td>\n",
       "      <td>0.052522</td>\n",
       "      <td>0.0</td>\n",
       "      <td>0.0</td>\n",
       "      <td>0.070104</td>\n",
       "      <td>0.074901</td>\n",
       "      <td>0.072051</td>\n",
       "    </tr>\n",
       "    <tr>\n",
       "      <th>3</th>\n",
       "      <td>0.0</td>\n",
       "      <td>0.0</td>\n",
       "      <td>0.0</td>\n",
       "      <td>0.0</td>\n",
       "      <td>0.0</td>\n",
       "      <td>0.0</td>\n",
       "      <td>0.0</td>\n",
       "      <td>0.0</td>\n",
       "      <td>0.0</td>\n",
       "      <td>0.0</td>\n",
       "      <td>...</td>\n",
       "      <td>0.000000</td>\n",
       "      <td>0.0</td>\n",
       "      <td>0.000000</td>\n",
       "      <td>0.000000</td>\n",
       "      <td>0.007783</td>\n",
       "      <td>0.0</td>\n",
       "      <td>0.0</td>\n",
       "      <td>0.000000</td>\n",
       "      <td>0.011099</td>\n",
       "      <td>0.000000</td>\n",
       "    </tr>\n",
       "    <tr>\n",
       "      <th>4</th>\n",
       "      <td>0.0</td>\n",
       "      <td>0.0</td>\n",
       "      <td>0.0</td>\n",
       "      <td>0.0</td>\n",
       "      <td>0.0</td>\n",
       "      <td>0.0</td>\n",
       "      <td>0.0</td>\n",
       "      <td>0.0</td>\n",
       "      <td>0.0</td>\n",
       "      <td>0.0</td>\n",
       "      <td>...</td>\n",
       "      <td>0.039561</td>\n",
       "      <td>0.0</td>\n",
       "      <td>0.000000</td>\n",
       "      <td>0.000000</td>\n",
       "      <td>0.060398</td>\n",
       "      <td>0.0</td>\n",
       "      <td>0.0</td>\n",
       "      <td>0.000000</td>\n",
       "      <td>0.010766</td>\n",
       "      <td>0.000000</td>\n",
       "    </tr>\n",
       "  </tbody>\n",
       "</table>\n",
       "<p>5 rows × 10000 columns</p>\n",
       "</div>"
      ],
      "text/plain": [
       "   12th  realclearpolitics  streams  clan  venezuelans  policymakers  coin  \\\n",
       "0   0.0                0.0      0.0   0.0          0.0           0.0   0.0   \n",
       "1   0.0                0.0      0.0   0.0          0.0           0.0   0.0   \n",
       "2   0.0                0.0      0.0   0.0          0.0           0.0   0.0   \n",
       "3   0.0                0.0      0.0   0.0          0.0           0.0   0.0   \n",
       "4   0.0                0.0      0.0   0.0          0.0           0.0   0.0   \n",
       "\n",
       "   biological  sekulow  winston  ...     video  republican     house  \\\n",
       "0         0.0      0.0      0.0  ...  0.000000         0.0  0.000000   \n",
       "1         0.0      0.0      0.0  ...  0.000000         0.0  0.000000   \n",
       "2         0.0      0.0      0.0  ...  0.000000         0.0  0.032083   \n",
       "3         0.0      0.0      0.0  ...  0.000000         0.0  0.000000   \n",
       "4         0.0      0.0      0.0  ...  0.039561         0.0  0.000000   \n",
       "\n",
       "      state    people  obama  clinton  president      said     trump  \n",
       "0  0.000000  0.049706    0.0      0.0   0.000000  0.035442  0.000000  \n",
       "1  0.008015  0.000000    0.0      0.0   0.030946  0.024798  0.000000  \n",
       "2  0.030262  0.052522    0.0      0.0   0.070104  0.074901  0.072051  \n",
       "3  0.000000  0.007783    0.0      0.0   0.000000  0.011099  0.000000  \n",
       "4  0.000000  0.060398    0.0      0.0   0.000000  0.010766  0.000000  \n",
       "\n",
       "[5 rows x 10000 columns]"
      ]
     },
     "execution_count": 25,
     "metadata": {},
     "output_type": "execute_result"
    }
   ],
   "source": [
    "tf_idf_vector_features_test = tf_idf_vectorizer.transform(list(test.text)).toarray()\n",
    "x_test = pd.DataFrame(tf_idf_vector_features_test, columns = vocab)\n",
    "x_test = x_test[most_freq_10000]\n",
    "x_test.head()"
   ]
  },
  {
   "cell_type": "markdown",
   "metadata": {},
   "source": [
    "Starting with building the models."
   ]
  },
  {
   "cell_type": "code",
   "execution_count": 26,
   "metadata": {},
   "outputs": [
    {
     "name": "stdout",
     "output_type": "stream",
     "text": [
      "[[1852   32]\n",
      " [  53 2063]]\n",
      "0.97875\n"
     ]
    }
   ],
   "source": [
    "logit_model = LogisticRegression(solver = 'lbfgs')\n",
    "logit_model.fit(x_train, train.fake)\n",
    "\n",
    "y_pred = logit_model.predict(x_test)\n",
    "\n",
    "print(confusion_matrix(test.fake, y_pred))\n",
    "print(accuracy_score(test.fake, y_pred))"
   ]
  },
  {
   "cell_type": "code",
   "execution_count": 27,
   "metadata": {},
   "outputs": [
    {
     "name": "stdout",
     "output_type": "stream",
     "text": [
      "[[1684  200]\n",
      " [ 111 2005]]\n",
      "0.92225\n"
     ]
    }
   ],
   "source": [
    "gnb_model = GaussianNB()\n",
    "gnb_model.fit(x_train, train.fake)                          \n",
    "\n",
    "y_pred = gnb_model.predict(x_test)\n",
    "\n",
    "print(confusion_matrix(test.fake, y_pred))\n",
    "print(accuracy_score(test.fake, y_pred))"
   ]
  },
  {
   "cell_type": "code",
   "execution_count": 28,
   "metadata": {},
   "outputs": [
    {
     "name": "stdout",
     "output_type": "stream",
     "text": [
      "[[1872   12]\n",
      " [  17 2099]]\n",
      "0.99275\n"
     ]
    }
   ],
   "source": [
    "tree_model = DecisionTreeClassifier()\n",
    "tree_model.fit(x_train, train.fake)                           \n",
    "\n",
    "y_pred = tree_model.predict(x_test)\n",
    "\n",
    "print(confusion_matrix(test.fake, y_pred))\n",
    "print(accuracy_score(test.fake, y_pred))"
   ]
  },
  {
   "cell_type": "code",
   "execution_count": 29,
   "metadata": {},
   "outputs": [
    {
     "name": "stdout",
     "output_type": "stream",
     "text": [
      "[[1870   14]\n",
      " [  19 2097]]\n",
      "0.99175\n"
     ]
    }
   ],
   "source": [
    "rf_model = RandomForestClassifier(n_estimators = 25)\n",
    "rf_model.fit(x_train, train.fake)                           \n",
    "\n",
    "y_pred = rf_model.predict(x_test)\n",
    "\n",
    "print(confusion_matrix(test.fake, y_pred))\n",
    "print(accuracy_score(test.fake, y_pred))"
   ]
  },
  {
   "cell_type": "markdown",
   "metadata": {},
   "source": [
    "The second approach, though much slower and processing intensive, is giving better results. We have 99.3% accuracy with the decision tree model. <br><br>The accuracy scores could have been even better if we had used the entire dataset and if more words than 10000 were used as features for the different models. Further, adding the three features from before - the lengths of titles, text and the presence of capitalized words could probably improve the accuracy still further."
   ]
  },
  {
   "cell_type": "code",
   "execution_count": null,
   "metadata": {},
   "outputs": [],
   "source": []
  }
 ],
 "metadata": {
  "kernelspec": {
   "display_name": "Python 3",
   "language": "python",
   "name": "python3"
  },
  "language_info": {
   "codemirror_mode": {
    "name": "ipython",
    "version": 3
   },
   "file_extension": ".py",
   "mimetype": "text/x-python",
   "name": "python",
   "nbconvert_exporter": "python",
   "pygments_lexer": "ipython3",
   "version": "3.7.3"
  }
 },
 "nbformat": 4,
 "nbformat_minor": 2
}
